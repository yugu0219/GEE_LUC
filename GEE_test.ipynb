{
 "cells": [
  {
   "cell_type": "code",
   "execution_count": 2,
   "metadata": {},
   "outputs": [],
   "source": [
    "import ee\n",
    "import geemap\n",
    "import matplotlib.pyplot as plt\n",
    "ee.Initialize(project= 'ee-gy5555386')\n"
   ]
  },
  {
   "cell_type": "code",
   "execution_count": 4,
   "metadata": {},
   "outputs": [
    {
     "data": {
      "text/html": [
       "\n",
       "            <style>\n",
       "                .geemap-dark {\n",
       "                    --jp-widgets-color: white;\n",
       "                    --jp-widgets-label-color: white;\n",
       "                    --jp-ui-font-color1: white;\n",
       "                    --jp-layout-color2: #454545;\n",
       "                    background-color: #383838;\n",
       "                }\n",
       "\n",
       "                .geemap-dark .jupyter-button {\n",
       "                    --jp-layout-color3: #383838;\n",
       "                }\n",
       "\n",
       "                .geemap-colab {\n",
       "                    background-color: var(--colab-primary-surface-color, white);\n",
       "                }\n",
       "\n",
       "                .geemap-colab .jupyter-button {\n",
       "                    --jp-layout-color3: var(--colab-primary-surface-color, white);\n",
       "                }\n",
       "            </style>\n",
       "            "
      ],
      "text/plain": [
       "<IPython.core.display.HTML object>"
      ]
     },
     "metadata": {},
     "output_type": "display_data"
    }
   ],
   "source": [
    "ee.Initialize(project= 'ee-gy5555386')"
   ]
  },
  {
   "cell_type": "markdown",
   "metadata": {},
   "source": [
    "## example for loading statillate dataset and visualization"
   ]
  },
  {
   "cell_type": "code",
   "execution_count": 12,
   "metadata": {},
   "outputs": [
    {
     "data": {
      "text/html": [
       "\n",
       "            <style>\n",
       "                .geemap-dark {\n",
       "                    --jp-widgets-color: white;\n",
       "                    --jp-widgets-label-color: white;\n",
       "                    --jp-ui-font-color1: white;\n",
       "                    --jp-layout-color2: #454545;\n",
       "                    background-color: #383838;\n",
       "                }\n",
       "\n",
       "                .geemap-dark .jupyter-button {\n",
       "                    --jp-layout-color3: #383838;\n",
       "                }\n",
       "\n",
       "                .geemap-colab {\n",
       "                    background-color: var(--colab-primary-surface-color, white);\n",
       "                }\n",
       "\n",
       "                .geemap-colab .jupyter-button {\n",
       "                    --jp-layout-color3: var(--colab-primary-surface-color, white);\n",
       "                }\n",
       "            </style>\n",
       "            "
      ],
      "text/plain": [
       "<IPython.core.display.HTML object>"
      ]
     },
     "metadata": {},
     "output_type": "display_data"
    }
   ],
   "source": [
    "# load hassen dataset related with forest watch\n",
    "dataset= ee.Image('UMD/hansen/global_forest_change_2020_v1_8')\n",
    "forest_loss =dataset.select('loss')\n",
    "forest_2000= dataset.select('treecover2000')"
   ]
  },
  {
   "cell_type": "code",
   "execution_count": 3,
   "metadata": {},
   "outputs": [
    {
     "data": {
      "text/html": [
       "\n",
       "            <style>\n",
       "                .geemap-dark {\n",
       "                    --jp-widgets-color: white;\n",
       "                    --jp-widgets-label-color: white;\n",
       "                    --jp-ui-font-color1: white;\n",
       "                    --jp-layout-color2: #454545;\n",
       "                    background-color: #383838;\n",
       "                }\n",
       "\n",
       "                .geemap-dark .jupyter-button {\n",
       "                    --jp-layout-color3: #383838;\n",
       "                }\n",
       "\n",
       "                .geemap-colab {\n",
       "                    background-color: var(--colab-primary-surface-color, white);\n",
       "                }\n",
       "\n",
       "                .geemap-colab .jupyter-button {\n",
       "                    --jp-layout-color3: var(--colab-primary-surface-color, white);\n",
       "                }\n",
       "            </style>\n",
       "            "
      ],
      "text/plain": [
       "<IPython.core.display.HTML object>"
      ]
     },
     "metadata": {},
     "output_type": "display_data"
    },
    {
     "data": {
      "application/vnd.jupyter.widget-view+json": {
       "model_id": "e2a34debc57142d4917687526bbf6b3b",
       "version_major": 2,
       "version_minor": 0
      },
      "text/plain": [
       "Map(center=[4.075891298132545e-31, 0], controls=(WidgetControl(options=['position', 'transparent_bg'], widget=…"
      ]
     },
     "execution_count": 3,
     "metadata": {},
     "output_type": "execute_result"
    }
   ],
   "source": [
    "Map=geemap.Map()\n",
    "global_region = ee.Geometry.Rectangle([-180,-90,180,90])\n",
    "\n",
    "Map.centerObject(global_region,2)\n",
    "\n",
    "loss_vis_params = {\n",
    "    'min' : 0,\n",
    "    'max' : 1,\n",
    "    'palette' : ['red']\n",
    "    }\n",
    "forest_2000_vis_params = {\n",
    "    'min':0,\n",
    "    'max' : 100,\n",
    "    'palette' : ['00FF00']\n",
    "}\n",
    "\n",
    "Map.addLayer(forest_loss,loss_vis_params, 'Forest Loss')\n",
    "Map.addLayer(forest_2000, forest_2000_vis_params,'Forest Cover 2000')\n",
    "Map"
   ]
  },
  {
   "cell_type": "code",
   "execution_count": 6,
   "metadata": {},
   "outputs": [
    {
     "data": {
      "text/html": [
       "\n",
       "            <style>\n",
       "                .geemap-dark {\n",
       "                    --jp-widgets-color: white;\n",
       "                    --jp-widgets-label-color: white;\n",
       "                    --jp-ui-font-color1: white;\n",
       "                    --jp-layout-color2: #454545;\n",
       "                    background-color: #383838;\n",
       "                }\n",
       "\n",
       "                .geemap-dark .jupyter-button {\n",
       "                    --jp-layout-color3: #383838;\n",
       "                }\n",
       "\n",
       "                .geemap-colab {\n",
       "                    background-color: var(--colab-primary-surface-color, white);\n",
       "                }\n",
       "\n",
       "                .geemap-colab .jupyter-button {\n",
       "                    --jp-layout-color3: var(--colab-primary-surface-color, white);\n",
       "                }\n",
       "            </style>\n",
       "            "
      ],
      "text/plain": [
       "<IPython.core.display.HTML object>"
      ]
     },
     "metadata": {},
     "output_type": "display_data"
    }
   ],
   "source": [
    "coco_image = ee.Image('projects/ee-gy5555386/assets/eth_cocoa_map')"
   ]
  },
  {
   "cell_type": "code",
   "execution_count": 9,
   "metadata": {},
   "outputs": [
    {
     "data": {
      "text/html": [
       "\n",
       "            <style>\n",
       "                .geemap-dark {\n",
       "                    --jp-widgets-color: white;\n",
       "                    --jp-widgets-label-color: white;\n",
       "                    --jp-ui-font-color1: white;\n",
       "                    --jp-layout-color2: #454545;\n",
       "                    background-color: #383838;\n",
       "                }\n",
       "\n",
       "                .geemap-dark .jupyter-button {\n",
       "                    --jp-layout-color3: #383838;\n",
       "                }\n",
       "\n",
       "                .geemap-colab {\n",
       "                    background-color: var(--colab-primary-surface-color, white);\n",
       "                }\n",
       "\n",
       "                .geemap-colab .jupyter-button {\n",
       "                    --jp-layout-color3: var(--colab-primary-surface-color, white);\n",
       "                }\n",
       "            </style>\n",
       "            "
      ],
      "text/plain": [
       "<IPython.core.display.HTML object>"
      ]
     },
     "metadata": {},
     "output_type": "display_data"
    },
    {
     "name": "stdout",
     "output_type": "stream",
     "text": [
      "{'b1_max': 1, 'b1_min': -32768}\n"
     ]
    }
   ],
   "source": [
    "# Define the region of interest (the entire image)\n",
    "region = coco_image.geometry()\n",
    "\n",
    "# Get the minimum and maximum values over the region\n",
    "min_max = coco_image.reduceRegion(\n",
    "    reducer=ee.Reducer.minMax(),\n",
    "    geometry=region,\n",
    "    scale=30,\n",
    "    maxPixels=1e9\n",
    ")\n",
    "\n",
    "# Print the minimum and maximum values\n",
    "print(min_max.getInfo())"
   ]
  },
  {
   "cell_type": "code",
   "execution_count": 10,
   "metadata": {},
   "outputs": [
    {
     "data": {
      "text/html": [
       "\n",
       "            <style>\n",
       "                .geemap-dark {\n",
       "                    --jp-widgets-color: white;\n",
       "                    --jp-widgets-label-color: white;\n",
       "                    --jp-ui-font-color1: white;\n",
       "                    --jp-layout-color2: #454545;\n",
       "                    background-color: #383838;\n",
       "                }\n",
       "\n",
       "                .geemap-dark .jupyter-button {\n",
       "                    --jp-layout-color3: #383838;\n",
       "                }\n",
       "\n",
       "                .geemap-colab {\n",
       "                    background-color: var(--colab-primary-surface-color, white);\n",
       "                }\n",
       "\n",
       "                .geemap-colab .jupyter-button {\n",
       "                    --jp-layout-color3: var(--colab-primary-surface-color, white);\n",
       "                }\n",
       "            </style>\n",
       "            "
      ],
      "text/plain": [
       "<IPython.core.display.HTML object>"
      ]
     },
     "metadata": {},
     "output_type": "display_data"
    },
    {
     "data": {
      "image/png": "[encoded data removed]",
      "text/plain": [
       "<Figure size 1000x600 with 1 Axes>"
      ]
     },
     "metadata": {},
     "output_type": "display_data"
    }
   ],
   "source": [
    "# Get the histogram of cell values\n",
    "histogram = coco_image.reduceRegion(\n",
    "    reducer=ee.Reducer.histogram(),\n",
    "    geometry=region,\n",
    "    scale=30,\n",
    "    maxPixels=1e9\n",
    ")\n",
    "\n",
    "# Extract the histogram data\n",
    "hist_data = histogram.getInfo()\n",
    "\n",
    "# Extract the histogram values and bins\n",
    "values = hist_data['b1']['histogram']\n",
    "bins = hist_data['b1']['bucketMeans']\n",
    "\n",
    "# Plot the histogram\n",
    "plt.figure(figsize=(10, 6))\n",
    "plt.bar(bins, values, width=bins[1] - bins[0], align='center')\n",
    "plt.xlabel('Cell Values')\n",
    "plt.ylabel('Frequency')\n",
    "plt.title('Histogram of Cocoa Map Cell Values')\n",
    "plt.show()"
   ]
  },
  {
   "cell_type": "code",
   "execution_count": 11,
   "metadata": {},
   "outputs": [
    {
     "data": {
      "text/html": [
       "\n",
       "            <style>\n",
       "                .geemap-dark {\n",
       "                    --jp-widgets-color: white;\n",
       "                    --jp-widgets-label-color: white;\n",
       "                    --jp-ui-font-color1: white;\n",
       "                    --jp-layout-color2: #454545;\n",
       "                    background-color: #383838;\n",
       "                }\n",
       "\n",
       "                .geemap-dark .jupyter-button {\n",
       "                    --jp-layout-color3: #383838;\n",
       "                }\n",
       "\n",
       "                .geemap-colab {\n",
       "                    background-color: var(--colab-primary-surface-color, white);\n",
       "                }\n",
       "\n",
       "                .geemap-colab .jupyter-button {\n",
       "                    --jp-layout-color3: var(--colab-primary-surface-color, white);\n",
       "                }\n",
       "            </style>\n",
       "            "
      ],
      "text/plain": [
       "<IPython.core.display.HTML object>"
      ]
     },
     "metadata": {},
     "output_type": "display_data"
    },
    {
     "data": {
      "application/vnd.jupyter.widget-view+json": {
       "model_id": "86417e56a6414cf5afe1fd887842a758",
       "version_major": 2,
       "version_minor": 0
      },
      "text/plain": [
       "Map(bottom=804.0, center=[7.768716615400671, -3.7037323371880677], controls=(WidgetControl(options=['position'…"
      ]
     },
     "execution_count": 11,
     "metadata": {},
     "output_type": "execute_result"
    }
   ],
   "source": [
    "# Define visualization parameters\n",
    "viz_params = {\n",
    "    'min': -35000,\n",
    "    'max': 0,\n",
    "    'palette': ['grey', 'green']\n",
    "}\n",
    "\n",
    "# Add the image to the map\n",
    "Map.addLayer(coco_image, viz_params, 'Cocoa Map')\n",
    "\n",
    "# Center the map on the image\n",
    "Map.centerObject(coco_image, 10)\n",
    "\n",
    "# Display the map\n",
    "Map"
   ]
  },
  {
   "cell_type": "markdown",
   "metadata": {},
   "source": [
    "## overlay the cocoa map with forest layer"
   ]
  },
  {
   "cell_type": "code",
   "execution_count": 12,
   "metadata": {},
   "outputs": [
    {
     "data": {
      "text/html": [
       "\n",
       "            <style>\n",
       "                .geemap-dark {\n",
       "                    --jp-widgets-color: white;\n",
       "                    --jp-widgets-label-color: white;\n",
       "                    --jp-ui-font-color1: white;\n",
       "                    --jp-layout-color2: #454545;\n",
       "                    background-color: #383838;\n",
       "                }\n",
       "\n",
       "                .geemap-dark .jupyter-button {\n",
       "                    --jp-layout-color3: #383838;\n",
       "                }\n",
       "\n",
       "                .geemap-colab {\n",
       "                    background-color: var(--colab-primary-surface-color, white);\n",
       "                }\n",
       "\n",
       "                .geemap-colab .jupyter-button {\n",
       "                    --jp-layout-color3: var(--colab-primary-surface-color, white);\n",
       "                }\n",
       "            </style>\n",
       "            "
      ],
      "text/plain": [
       "<IPython.core.display.HTML object>"
      ]
     },
     "metadata": {},
     "output_type": "display_data"
    }
   ],
   "source": [
    "import geopandas"
   ]
  },
  {
   "cell_type": "code",
   "execution_count": 13,
   "metadata": {},
   "outputs": [
    {
     "data": {
      "text/html": [
       "\n",
       "            <style>\n",
       "                .geemap-dark {\n",
       "                    --jp-widgets-color: white;\n",
       "                    --jp-widgets-label-color: white;\n",
       "                    --jp-ui-font-color1: white;\n",
       "                    --jp-layout-color2: #454545;\n",
       "                    background-color: #383838;\n",
       "                }\n",
       "\n",
       "                .geemap-dark .jupyter-button {\n",
       "                    --jp-layout-color3: #383838;\n",
       "                }\n",
       "\n",
       "                .geemap-colab {\n",
       "                    background-color: var(--colab-primary-surface-color, white);\n",
       "                }\n",
       "\n",
       "                .geemap-colab .jupyter-button {\n",
       "                    --jp-layout-color3: var(--colab-primary-surface-color, white);\n",
       "                }\n",
       "            </style>\n",
       "            "
      ],
      "text/plain": [
       "<IPython.core.display.HTML object>"
      ]
     },
     "metadata": {},
     "output_type": "display_data"
    },
    {
     "data": {
      "text/plain": [
       "{'type': 'Image',\n",
       " 'bands': [{'id': 'treecover2000',\n",
       "   'data_type': {'type': 'PixelType',\n",
       "    'precision': 'int',\n",
       "    'min': 0,\n",
       "    'max': 255},\n",
       "   'dimensions': [1440000, 560000],\n",
       "   'crs': 'EPSG:4326',\n",
       "   'crs_transform': [0.00025, 0, -180, 0, -0.00025, 80]},\n",
       "  {'id': 'loss',\n",
       "   'data_type': {'type': 'PixelType',\n",
       "    'precision': 'int',\n",
       "    'min': 0,\n",
       "    'max': 255},\n",
       "   'dimensions': [1440000, 560000],\n",
       "   'crs': 'EPSG:4326',\n",
       "   'crs_transform': [0.00025, 0, -180, 0, -0.00025, 80]},\n",
       "  {'id': 'gain',\n",
       "   'data_type': {'type': 'PixelType',\n",
       "    'precision': 'int',\n",
       "    'min': 0,\n",
       "    'max': 255},\n",
       "   'dimensions': [1440000, 560000],\n",
       "   'crs': 'EPSG:4326',\n",
       "   'crs_transform': [0.00025, 0, -180, 0, -0.00025, 80]},\n",
       "  {'id': 'lossyear',\n",
       "   'data_type': {'type': 'PixelType',\n",
       "    'precision': 'int',\n",
       "    'min': 0,\n",
       "    'max': 255},\n",
       "   'dimensions': [1440000, 560000],\n",
       "   'crs': 'EPSG:4326',\n",
       "   'crs_transform': [0.00025, 0, -180, 0, -0.00025, 80]},\n",
       "  {'id': 'first_b30',\n",
       "   'data_type': {'type': 'PixelType',\n",
       "    'precision': 'int',\n",
       "    'min': 0,\n",
       "    'max': 255},\n",
       "   'dimensions': [1440000, 560000],\n",
       "   'crs': 'EPSG:4326',\n",
       "   'crs_transform': [0.00025, 0, -180, 0, -0.00025, 80]},\n",
       "  {'id': 'first_b40',\n",
       "   'data_type': {'type': 'PixelType',\n",
       "    'precision': 'int',\n",
       "    'min': 0,\n",
       "    'max': 255},\n",
       "   'dimensions': [1440000, 560000],\n",
       "   'crs': 'EPSG:4326',\n",
       "   'crs_transform': [0.00025, 0, -180, 0, -0.00025, 80]},\n",
       "  {'id': 'first_b50',\n",
       "   'data_type': {'type': 'PixelType',\n",
       "    'precision': 'int',\n",
       "    'min': 0,\n",
       "    'max': 255},\n",
       "   'dimensions': [1440000, 560000],\n",
       "   'crs': 'EPSG:4326',\n",
       "   'crs_transform': [0.00025, 0, -180, 0, -0.00025, 80]},\n",
       "  {'id': 'first_b70',\n",
       "   'data_type': {'type': 'PixelType',\n",
       "    'precision': 'int',\n",
       "    'min': 0,\n",
       "    'max': 255},\n",
       "   'dimensions': [1440000, 560000],\n",
       "   'crs': 'EPSG:4326',\n",
       "   'crs_transform': [0.00025, 0, -180, 0, -0.00025, 80]},\n",
       "  {'id': 'last_b30',\n",
       "   'data_type': {'type': 'PixelType',\n",
       "    'precision': 'int',\n",
       "    'min': 0,\n",
       "    'max': 255},\n",
       "   'dimensions': [1440000, 560000],\n",
       "   'crs': 'EPSG:4326',\n",
       "   'crs_transform': [0.00025, 0, -180, 0, -0.00025, 80]},\n",
       "  {'id': 'last_b40',\n",
       "   'data_type': {'type': 'PixelType',\n",
       "    'precision': 'int',\n",
       "    'min': 0,\n",
       "    'max': 255},\n",
       "   'dimensions': [1440000, 560000],\n",
       "   'crs': 'EPSG:4326',\n",
       "   'crs_transform': [0.00025, 0, -180, 0, -0.00025, 80]},\n",
       "  {'id': 'last_b50',\n",
       "   'data_type': {'type': 'PixelType',\n",
       "    'precision': 'int',\n",
       "    'min': 0,\n",
       "    'max': 255},\n",
       "   'dimensions': [1440000, 560000],\n",
       "   'crs': 'EPSG:4326',\n",
       "   'crs_transform': [0.00025, 0, -180, 0, -0.00025, 80]},\n",
       "  {'id': 'last_b70',\n",
       "   'data_type': {'type': 'PixelType',\n",
       "    'precision': 'int',\n",
       "    'min': 0,\n",
       "    'max': 255},\n",
       "   'dimensions': [1440000, 560000],\n",
       "   'crs': 'EPSG:4326',\n",
       "   'crs_transform': [0.00025, 0, -180, 0, -0.00025, 80]},\n",
       "  {'id': 'datamask',\n",
       "   'data_type': {'type': 'PixelType',\n",
       "    'precision': 'int',\n",
       "    'min': 0,\n",
       "    'max': 255},\n",
       "   'dimensions': [1440000, 560000],\n",
       "   'crs': 'EPSG:4326',\n",
       "   'crs_transform': [0.00025, 0, -180, 0, -0.00025, 80]}],\n",
       " 'version': 1641990741293807,\n",
       " 'id': 'UMD/hansen/global_forest_change_2020_v1_8',\n",
       " 'properties': {'system:visualization_0_min': '0.0',\n",
       "  'type_name': 'Image',\n",
       "  'keywords': ['forest', 'geophysical', 'hansen', 'landsat_derived', 'umd'],\n",
       "  'thumb': 'https://mw1.google.com/ges/dd/images/UMD_hansen_thumb.png',\n",
       "  'description': '<p>Results from time-series analysis of Landsat images in characterizing\\nglobal forest extent and change.</p><p>The &#39;first&#39; and &#39;last&#39; bands are reference multispectral imagery from the\\nfirst and last available years for Landsat spectral bands 3, 4, 5, and 7.\\nReference composite imagery represents median observations from a set of\\nquality-assessed growing-season observations for each of these bands.</p><p>Please see the <a href=\"https://storage.googleapis.com/earthenginepartners-hansen/GFC-2020-v1.8/download.html\">User Notes</a>\\nfor this Version 1.8 update, as well as the associated journal article:\\nHansen, Potapov, Moore, Hancher et al. “High-resolution global maps of\\n21st-century forest cover change.” Science 342.6160 (2013): 850-853.</p><p><b>Provider: <a href=\"https://earthenginepartners.appspot.com/science-2013-global-forest\">Hansen/UMD/Google/USGS/NASA</a></b><br><p><b>Resolution</b><br>30.92 meters\\n</p><p><b>Bands</b><table class=\"eecat\"><tr><th scope=\"col\">Name</th><th scope=\"col\">Description</th></tr><tr><td>treecover2000</td><td><p>Tree canopy cover for year 2000, defined as canopy closure for all\\nvegetation taller than 5m in height.</p></td></tr><tr><td>loss</td><td><p>Forest loss during the study period, defined as a stand-replacement\\ndisturbance (a change from a forest to non-forest state).</p></td></tr><tr><td colspan=100>\\n      Bitmask for loss\\n<ul><li>\\n          Bit 0: Forest loss during the study period.\\n<ul><li>0: Not loss</li><li>1: Loss</li></ul></li></ul></td></tr><tr><td>gain</td><td><p>Forest gain during the period 2000–2012, defined as the inverse of\\nloss (a non-forest to forest change entirely within the study\\nperiod). Note that this has not been updated in subsequent versions.</p></td></tr><tr><td colspan=100>\\n      Bitmask for gain\\n<ul><li>\\n          Bit 0: Forest gain during the period 2000–2012.\\n<ul><li>0: No gain</li><li>1: Gain</li></ul></li></ul></td></tr><tr><td>first_b30</td><td><p>Landsat 7 band 3 (red) cloud-free image composite. Reference\\nmultispectral imagery from the first available year, typically 2000.</p></td></tr><tr><td>first_b40</td><td><p>Landsat 7 band 4 (NIR) cloud-free image composite. Reference\\nmultispectral imagery from the first available year, typically 2000.</p></td></tr><tr><td>first_b50</td><td><p>Landsat 7 band 5 (SWIR) cloud-free image composite. Reference\\nmultispectral imagery from the first available year, typically 2000.</p></td></tr><tr><td>first_b70</td><td><p>Landsat 7 band 7 (SWIR) cloud-free image composite. Reference\\nmultispectral imagery from the first available year, typically 2000.</p></td></tr><tr><td>last_b30</td><td><p>Landsat 7 band 3 (red) cloud-free image composite. Reference\\nmultispectral imagery from the last available year, typically the last\\nyear of the study period.</p></td></tr><tr><td>last_b40</td><td><p>Landsat 7 band 4 (NIR) cloud-free image composite. Reference\\nmultispectral imagery from the last available year, typically the last\\nyear of the study period.</p></td></tr><tr><td>last_b50</td><td><p>Landsat 7 band 5 (SWIR) cloud-free image composite. Reference\\nmultispectral imagery from the last available year, typically the last\\nyear of the study period.</p></td></tr><tr><td>last_b70</td><td><p>Landsat 7 band 7 (SWIR) cloud-free image composite. Reference\\nmultispectral imagery from the last available year, typically the last\\nyear of the study period.</p></td></tr><tr><td>datamask</td><td><p>Three values representing areas of no data, mapped land surface, and permanent water bodies.</p></td></tr><tr><td colspan=100>\\n      Bitmask for datamask\\n<ul><li>\\n          Bits 0-1: Three values representing areas of no data, mapped land surface, and permanent water bodies.\\n<ul><li>0: No data</li><li>1: Mapped land surface</li><li>2: Permanent water bodies</li></ul></li></ul></td></tr><tr><td>lossyear</td><td><p>Year of gross forest cover loss event. Forest loss during the study\\nperiod, defined as a stand-replacement disturbance, or a change from a\\nforest to non-forest state. Encoded as either 0 (no loss) or else a value\\nin the range 1–20, representing loss detected primarily in the year\\n2001–2020, respectively.</p></td></tr></table><p><b>Terms of Use</b><br><p>Licensed under the Creative Commons Attribution 4.0 International License.</p><p><b>Suggested citation(s)</b><ul><li><p>Hansen, M. C., P. V. Potapov, R. Moore, M. Hancher, S. A. Turubanova, A.\\nTyukavina, D. Thau, S. V. Stehman, S. J. Goetz, T. R. Loveland, A.\\nKommareddy, A. Egorov, L. Chini, C. O. Justice, and J. R. G. Townshend.\\n2013. “High-Resolution Global Maps of 21st-Century Forest Cover Change.”\\nScience 342 (15 November): 850–53. Data available on-line at:\\nhttps://earthenginepartners.appspot.com/science-2013-global-forest.</p></li></ul><style>\\n  table.eecat {\\n  border: 1px solid black;\\n  border-collapse: collapse;\\n  font-size: 13px;\\n  }\\n  table.eecat td, tr, th {\\n  text-align: left; vertical-align: top;\\n  border: 1px solid gray; padding: 3px;\\n  }\\n  td.nobreak { white-space: nowrap; }\\n</style>',\n",
       "  'source_tags': ['landsat_derived', 'umd', 'hansen'],\n",
       "  'visualization_0_max': '100.0',\n",
       "  'title': 'Hansen Global Forest Change v1.8 (2000-2020)',\n",
       "  'product_tags': ['forest', 'geophysical'],\n",
       "  'provider': 'Hansen/UMD/Google/USGS/NASA',\n",
       "  'system:footprint': {'type': 'LinearRing',\n",
       "   'coordinates': [[-180, -90],\n",
       "    [180, -90],\n",
       "    [180, 90],\n",
       "    [-180, 90],\n",
       "    [-180, -90]]},\n",
       "  'visualization_0_min': '0.0',\n",
       "  'visualization_0_name': 'Tree Canopy Cover',\n",
       "  'date_range': [946684800000, 1577836800000],\n",
       "  'period': 0,\n",
       "  'system:visualization_0_bands': 'treecover2000',\n",
       "  'provider_url': 'https://earthenginepartners.appspot.com/science-2013-global-forest',\n",
       "  'sample': 'https://mw1.google.com/ges/dd/images/UMD_hansen_sample.png',\n",
       "  'tags': ['forest', 'geophysical', 'hansen', 'landsat_derived', 'umd'],\n",
       "  'system:visualization_0_max': '100.0',\n",
       "  'visualization_0_palette': '3d3d3d,080a02,080a02,080a02,106e12,37a930,03ff17',\n",
       "  'system:visualization_0_palette': '3d3d3d,080a02,080a02,080a02,106e12,37a930,03ff17',\n",
       "  'system:visualization_0_name': 'Tree Canopy Cover',\n",
       "  'system:asset_size': 1358194985752,\n",
       "  'visualization_0_bands': 'treecover2000'}}"
      ]
     },
     "execution_count": 13,
     "metadata": {},
     "output_type": "execute_result"
    }
   ],
   "source": [
    "dataset.getInfo()\n",
    "\n"
   ]
  },
  {
   "cell_type": "code",
   "execution_count": 14,
   "metadata": {},
   "outputs": [
    {
     "data": {
      "text/html": [
       "\n",
       "            <style>\n",
       "                .geemap-dark {\n",
       "                    --jp-widgets-color: white;\n",
       "                    --jp-widgets-label-color: white;\n",
       "                    --jp-ui-font-color1: white;\n",
       "                    --jp-layout-color2: #454545;\n",
       "                    background-color: #383838;\n",
       "                }\n",
       "\n",
       "                .geemap-dark .jupyter-button {\n",
       "                    --jp-layout-color3: #383838;\n",
       "                }\n",
       "\n",
       "                .geemap-colab {\n",
       "                    background-color: var(--colab-primary-surface-color, white);\n",
       "                }\n",
       "\n",
       "                .geemap-colab .jupyter-button {\n",
       "                    --jp-layout-color3: var(--colab-primary-surface-color, white);\n",
       "                }\n",
       "            </style>\n",
       "            "
      ],
      "text/plain": [
       "<IPython.core.display.HTML object>"
      ]
     },
     "metadata": {},
     "output_type": "display_data"
    }
   ],
   "source": [
    "\n",
    "# 选择感兴趣的波段\n",
    "band = dataset.select('treecover2000')"
   ]
  },
  {
   "cell_type": "code",
   "execution_count": 15,
   "metadata": {},
   "outputs": [
    {
     "data": {
      "text/html": [
       "\n",
       "            <style>\n",
       "                .geemap-dark {\n",
       "                    --jp-widgets-color: white;\n",
       "                    --jp-widgets-label-color: white;\n",
       "                    --jp-ui-font-color1: white;\n",
       "                    --jp-layout-color2: #454545;\n",
       "                    background-color: #383838;\n",
       "                }\n",
       "\n",
       "                .geemap-dark .jupyter-button {\n",
       "                    --jp-layout-color3: #383838;\n",
       "                }\n",
       "\n",
       "                .geemap-colab {\n",
       "                    background-color: var(--colab-primary-surface-color, white);\n",
       "                }\n",
       "\n",
       "                .geemap-colab .jupyter-button {\n",
       "                    --jp-layout-color3: var(--colab-primary-surface-color, white);\n",
       "                }\n",
       "            </style>\n",
       "            "
      ],
      "text/plain": [
       "<IPython.core.display.HTML object>"
      ]
     },
     "metadata": {},
     "output_type": "display_data"
    }
   ],
   "source": [
    "# 定义感兴趣区域（整个图像）\n",
    "region = ee.Geometry.Rectangle([-180, -90, 180, 90])\n",
    "\n"
   ]
  },
  {
   "cell_type": "code",
   "execution_count": 16,
   "metadata": {},
   "outputs": [
    {
     "data": {
      "text/html": [
       "\n",
       "            <style>\n",
       "                .geemap-dark {\n",
       "                    --jp-widgets-color: white;\n",
       "                    --jp-widgets-label-color: white;\n",
       "                    --jp-ui-font-color1: white;\n",
       "                    --jp-layout-color2: #454545;\n",
       "                    background-color: #383838;\n",
       "                }\n",
       "\n",
       "                .geemap-dark .jupyter-button {\n",
       "                    --jp-layout-color3: #383838;\n",
       "                }\n",
       "\n",
       "                .geemap-colab {\n",
       "                    background-color: var(--colab-primary-surface-color, white);\n",
       "                }\n",
       "\n",
       "                .geemap-colab .jupyter-button {\n",
       "                    --jp-layout-color3: var(--colab-primary-surface-color, white);\n",
       "                }\n",
       "            </style>\n",
       "            "
      ],
      "text/plain": [
       "<IPython.core.display.HTML object>"
      ]
     },
     "metadata": {},
     "output_type": "display_data"
    }
   ],
   "source": [
    "# histogram visualization\n",
    "histogram = band.reduceRegion(\n",
    "    reducer=ee.Reducer.histogram(),\n",
    "    geometry=region,\n",
    "    scale=30,\n",
    "    maxPixels=1e9\n",
    ")\n",
    "\n"
   ]
  },
  {
   "cell_type": "code",
   "execution_count": 17,
   "metadata": {},
   "outputs": [
    {
     "data": {
      "text/html": [
       "\n",
       "            <style>\n",
       "                .geemap-dark {\n",
       "                    --jp-widgets-color: white;\n",
       "                    --jp-widgets-label-color: white;\n",
       "                    --jp-ui-font-color1: white;\n",
       "                    --jp-layout-color2: #454545;\n",
       "                    background-color: #383838;\n",
       "                }\n",
       "\n",
       "                .geemap-dark .jupyter-button {\n",
       "                    --jp-layout-color3: #383838;\n",
       "                }\n",
       "\n",
       "                .geemap-colab {\n",
       "                    background-color: var(--colab-primary-surface-color, white);\n",
       "                }\n",
       "\n",
       "                .geemap-colab .jupyter-button {\n",
       "                    --jp-layout-color3: var(--colab-primary-surface-color, white);\n",
       "                }\n",
       "            </style>\n",
       "            "
      ],
      "text/plain": [
       "<IPython.core.display.HTML object>"
      ]
     },
     "metadata": {},
     "output_type": "display_data"
    },
    {
     "data": {
      "image/png": "[encoded data removed]",
      "text/plain": [
       "<Figure size 1000x600 with 1 Axes>"
      ]
     },
     "metadata": {},
     "output_type": "display_data"
    }
   ],
   "source": [
    "# data from histogram\n",
    "hist_data = histogram.getInfo()\n",
    "# 提\n",
    "values = hist_data['treecover2000']['histogram']\n",
    "bins = hist_data['treecover2000']['bucketMeans']\n",
    "\n",
    "# 绘制直方图\n",
    "plt.figure(figsize=(10, 6))\n",
    "plt.bar(bins, values, width=bins[1] - bins[0], align='center')\n",
    "plt.xlabel('Cell Values')\n",
    "plt.ylabel('Frequency')\n",
    "plt.title('Histogram of Tree Cover 2000 Cell Values')\n",
    "plt.show()"
   ]
  },
  {
   "cell_type": "code",
   "execution_count": 18,
   "metadata": {},
   "outputs": [
    {
     "data": {
      "text/html": [
       "\n",
       "            <style>\n",
       "                .geemap-dark {\n",
       "                    --jp-widgets-color: white;\n",
       "                    --jp-widgets-label-color: white;\n",
       "                    --jp-ui-font-color1: white;\n",
       "                    --jp-layout-color2: #454545;\n",
       "                    background-color: #383838;\n",
       "                }\n",
       "\n",
       "                .geemap-dark .jupyter-button {\n",
       "                    --jp-layout-color3: #383838;\n",
       "                }\n",
       "\n",
       "                .geemap-colab {\n",
       "                    background-color: var(--colab-primary-surface-color, white);\n",
       "                }\n",
       "\n",
       "                .geemap-colab .jupyter-button {\n",
       "                    --jp-layout-color3: var(--colab-primary-surface-color, white);\n",
       "                }\n",
       "            </style>\n",
       "            "
      ],
      "text/plain": [
       "<IPython.core.display.HTML object>"
      ]
     },
     "metadata": {},
     "output_type": "display_data"
    },
    {
     "data": {
      "text/plain": [
       "{'type': 'Image',\n",
       " 'bands': [{'id': 'treecover2000',\n",
       "   'data_type': {'type': 'PixelType',\n",
       "    'precision': 'int',\n",
       "    'min': 0,\n",
       "    'max': 255},\n",
       "   'dimensions': [1440000, 548000],\n",
       "   'crs': 'EPSG:4326',\n",
       "   'crs_transform': [0.00025, 0, -180, 0, -0.00025, 80]},\n",
       "  {'id': 'loss',\n",
       "   'data_type': {'type': 'PixelType',\n",
       "    'precision': 'int',\n",
       "    'min': 0,\n",
       "    'max': 255},\n",
       "   'dimensions': [1440000, 548000],\n",
       "   'crs': 'EPSG:4326',\n",
       "   'crs_transform': [0.00025, 0, -180, 0, -0.00025, 80]},\n",
       "  {'id': 'gain',\n",
       "   'data_type': {'type': 'PixelType',\n",
       "    'precision': 'int',\n",
       "    'min': 0,\n",
       "    'max': 255},\n",
       "   'dimensions': [1440000, 548000],\n",
       "   'crs': 'EPSG:4326',\n",
       "   'crs_transform': [0.00025, 0, -180, 0, -0.00025, 80]},\n",
       "  {'id': 'lossyear',\n",
       "   'data_type': {'type': 'PixelType',\n",
       "    'precision': 'int',\n",
       "    'min': 0,\n",
       "    'max': 255},\n",
       "   'dimensions': [1440000, 548000],\n",
       "   'crs': 'EPSG:4326',\n",
       "   'crs_transform': [0.00025, 0, -180, 0, -0.00025, 80]},\n",
       "  {'id': 'first_b30',\n",
       "   'data_type': {'type': 'PixelType',\n",
       "    'precision': 'int',\n",
       "    'min': 0,\n",
       "    'max': 255},\n",
       "   'dimensions': [1440000, 548000],\n",
       "   'crs': 'EPSG:4326',\n",
       "   'crs_transform': [0.00025, 0, -180, 0, -0.00025, 80]},\n",
       "  {'id': 'first_b40',\n",
       "   'data_type': {'type': 'PixelType',\n",
       "    'precision': 'int',\n",
       "    'min': 0,\n",
       "    'max': 255},\n",
       "   'dimensions': [1440000, 548000],\n",
       "   'crs': 'EPSG:4326',\n",
       "   'crs_transform': [0.00025, 0, -180, 0, -0.00025, 80]},\n",
       "  {'id': 'first_b50',\n",
       "   'data_type': {'type': 'PixelType',\n",
       "    'precision': 'int',\n",
       "    'min': 0,\n",
       "    'max': 255},\n",
       "   'dimensions': [1440000, 548000],\n",
       "   'crs': 'EPSG:4326',\n",
       "   'crs_transform': [0.00025, 0, -180, 0, -0.00025, 80]},\n",
       "  {'id': 'first_b70',\n",
       "   'data_type': {'type': 'PixelType',\n",
       "    'precision': 'int',\n",
       "    'min': 0,\n",
       "    'max': 255},\n",
       "   'dimensions': [1440000, 548000],\n",
       "   'crs': 'EPSG:4326',\n",
       "   'crs_transform': [0.00025, 0, -180, 0, -0.00025, 80]},\n",
       "  {'id': 'last_b30',\n",
       "   'data_type': {'type': 'PixelType',\n",
       "    'precision': 'int',\n",
       "    'min': 0,\n",
       "    'max': 255},\n",
       "   'dimensions': [1440000, 548000],\n",
       "   'crs': 'EPSG:4326',\n",
       "   'crs_transform': [0.00025, 0, -180, 0, -0.00025, 80]},\n",
       "  {'id': 'last_b40',\n",
       "   'data_type': {'type': 'PixelType',\n",
       "    'precision': 'int',\n",
       "    'min': 0,\n",
       "    'max': 255},\n",
       "   'dimensions': [1440000, 548000],\n",
       "   'crs': 'EPSG:4326',\n",
       "   'crs_transform': [0.00025, 0, -180, 0, -0.00025, 80]},\n",
       "  {'id': 'last_b50',\n",
       "   'data_type': {'type': 'PixelType',\n",
       "    'precision': 'int',\n",
       "    'min': 0,\n",
       "    'max': 255},\n",
       "   'dimensions': [1440000, 548000],\n",
       "   'crs': 'EPSG:4326',\n",
       "   'crs_transform': [0.00025, 0, -180, 0, -0.00025, 80]},\n",
       "  {'id': 'last_b70',\n",
       "   'data_type': {'type': 'PixelType',\n",
       "    'precision': 'int',\n",
       "    'min': 0,\n",
       "    'max': 255},\n",
       "   'dimensions': [1440000, 548000],\n",
       "   'crs': 'EPSG:4326',\n",
       "   'crs_transform': [0.00025, 0, -180, 0, -0.00025, 80]},\n",
       "  {'id': 'datamask',\n",
       "   'data_type': {'type': 'PixelType',\n",
       "    'precision': 'int',\n",
       "    'min': 0,\n",
       "    'max': 255},\n",
       "   'dimensions': [1440000, 548000],\n",
       "   'crs': 'EPSG:4326',\n",
       "   'crs_transform': [0.00025, 0, -180, 0, -0.00025, 80]}],\n",
       " 'version': 1641990738307055,\n",
       " 'id': 'UMD/hansen/global_forest_change_2015',\n",
       " 'properties': {'system:visualization_0_min': '0.0',\n",
       "  'type_name': 'Image',\n",
       "  'keywords': ['forest', 'geophysical', 'hansen', 'landsat_derived', 'umd'],\n",
       "  'thumb': 'https://mw1.google.com/ges/dd/images/UMD_hansen_thumb.png',\n",
       "  'description': '<p>Results from time-series analysis of Landsat images in characterizing\\nglobal forest extent and change.</p><p>The &#39;first&#39; and &#39;last&#39; bands are reference multispectral imagery from the\\nfirst and last available years for Landsat spectral bands 3, 4, 5, and 7.\\nReference composite imagery represents median observations from a set of\\nquality-assessed growing-season observations for each of these bands.</p><p>Please see the <a href=\"https://earthenginepartners.appspot.com/science-2013-global-forest/download_v1.2.html\">User Notes</a>\\nfor this Version 1.2 update, as well as the associated journal article:\\nHansen, Potapov, Moore, Hancher et al. “High-resolution global maps of\\n21st-century forest cover change.” Science 342.6160 (2013): 850-853.</p><p>Note that updated versions of this data are available. The newest version,\\nVersion 1.8 (produced with data through 2020), is available as\\nUMD/hansen/global_forest_change_2020_v1_8.</p><p><b>Provider: <a href=\"https://earthenginepartners.appspot.com/science-2013-global-forest\">Hansen/UMD/Google/USGS/NASA</a></b><br><p><b>Resolution</b><br>30.92 meters\\n</p><p><b>Bands</b><table class=\"eecat\"><tr><th scope=\"col\">Name</th><th scope=\"col\">Description</th></tr><tr><td>treecover2000</td><td><p>Tree canopy cover for year 2000, defined as canopy closure for all\\nvegetation taller than 5m in height.</p></td></tr><tr><td>loss</td><td><p>Forest loss during the study period, defined as a stand-replacement\\ndisturbance (a change from a forest to non-forest state).</p></td></tr><tr><td colspan=100>\\n      Bitmask for loss\\n<ul><li>\\n          Bit 0: Forest loss during the study period.\\n<ul><li>0: Not loss</li><li>1: Loss</li></ul></li></ul></td></tr><tr><td>gain</td><td><p>Forest gain during the period 2000–2012, defined as the inverse of\\nloss (a non-forest to forest change entirely within the study\\nperiod). Note that this has not been updated in subsequent versions.</p></td></tr><tr><td colspan=100>\\n      Bitmask for gain\\n<ul><li>\\n          Bit 0: Forest gain during the period 2000–2012.\\n<ul><li>0: No gain</li><li>1: Gain</li></ul></li></ul></td></tr><tr><td>first_b30</td><td><p>Landsat 7 band 3 (red) cloud-free image composite. Reference\\nmultispectral imagery from the first available year, typically 2000.</p></td></tr><tr><td>first_b40</td><td><p>Landsat 7 band 4 (NIR) cloud-free image composite. Reference\\nmultispectral imagery from the first available year, typically 2000.</p></td></tr><tr><td>first_b50</td><td><p>Landsat 7 band 5 (SWIR) cloud-free image composite. Reference\\nmultispectral imagery from the first available year, typically 2000.</p></td></tr><tr><td>first_b70</td><td><p>Landsat 7 band 7 (SWIR) cloud-free image composite. Reference\\nmultispectral imagery from the first available year, typically 2000.</p></td></tr><tr><td>last_b30</td><td><p>Landsat 7 band 3 (red) cloud-free image composite. Reference\\nmultispectral imagery from the last available year, typically the last\\nyear of the study period.</p></td></tr><tr><td>last_b40</td><td><p>Landsat 7 band 4 (NIR) cloud-free image composite. Reference\\nmultispectral imagery from the last available year, typically the last\\nyear of the study period.</p></td></tr><tr><td>last_b50</td><td><p>Landsat 7 band 5 (SWIR) cloud-free image composite. Reference\\nmultispectral imagery from the last available year, typically the last\\nyear of the study period.</p></td></tr><tr><td>last_b70</td><td><p>Landsat 7 band 7 (SWIR) cloud-free image composite. Reference\\nmultispectral imagery from the last available year, typically the last\\nyear of the study period.</p></td></tr><tr><td>datamask</td><td><p>Three values representing areas of no data, mapped land surface, and permanent water bodies.</p></td></tr><tr><td colspan=100>\\n      Bitmask for datamask\\n<ul><li>\\n          Bits 0-1: Three values representing areas of no data, mapped land surface, and permanent water bodies.\\n<ul><li>0: No data</li><li>1: Mapped land surface</li><li>2: Permanent water bodies</li></ul></li></ul></td></tr><tr><td>lossyear</td><td><p>Year of gross forest cover loss event. A disaggregation of total forest\\nloss to annual time scales. Encoded as either 0 (no loss) or else a value\\nin the range 1–14, representing loss detected primarily in the year\\n2001–2014, respectively.</p></td></tr></table><p><b>Terms of Use</b><br><p>Licensed under the Creative Commons Attribution 4.0 International License.</p><p><b>Suggested citation(s)</b><ul><li><p>Hansen, M. C., P. V. Potapov, R. Moore, M. Hancher, S. A. Turubanova, A.\\nTyukavina, D. Thau, S. V. Stehman, S. J. Goetz, T. R. Loveland, A.\\nKommareddy, A. Egorov, L. Chini, C. O. Justice, and J. R. G. Townshend.\\n2013. “High-Resolution Global Maps of 21st-Century Forest Cover Change.”\\nScience 342 (15 November): 850–53. Data available on-line at:\\nhttps://earthenginepartners.appspot.com/science-2013-global-forest.</p></li></ul><style>\\n  table.eecat {\\n  border: 1px solid black;\\n  border-collapse: collapse;\\n  font-size: 13px;\\n  }\\n  table.eecat td, tr, th {\\n  text-align: left; vertical-align: top;\\n  border: 1px solid gray; padding: 3px;\\n  }\\n  td.nobreak { white-space: nowrap; }\\n</style>',\n",
       "  'source_tags': ['landsat_derived', 'umd', 'hansen'],\n",
       "  'visualization_0_max': '100.0',\n",
       "  'title': 'Hansen Global Forest Change v1.2 (2000-2014) [deprecated]',\n",
       "  'superseded_by': 'UMD/hansen/global_forest_change_2020_v1_8',\n",
       "  'product_tags': ['forest', 'geophysical'],\n",
       "  'provider': 'Hansen/UMD/Google/USGS/NASA',\n",
       "  'visualization_0_min': '0.0',\n",
       "  'visualization_0_name': 'Tree Canopy Cover',\n",
       "  'date_range': [946684800000, 1420070400000],\n",
       "  'period': 0,\n",
       "  'system:visualization_0_bands': 'treecover2000',\n",
       "  'provider_url': 'https://earthenginepartners.appspot.com/science-2013-global-forest',\n",
       "  'sample': 'https://mw1.google.com/ges/dd/images/UMD_hansen_sample.png',\n",
       "  'tags': ['forest', 'geophysical', 'hansen', 'landsat_derived', 'umd'],\n",
       "  'system:visualization_0_max': '100.0',\n",
       "  'visualization_0_palette': '3d3d3d,080a02,080a02,080a02,106e12,37a930,03ff17',\n",
       "  'system:visualization_0_palette': '3d3d3d,080a02,080a02,080a02,106e12,37a930,03ff17',\n",
       "  'system:visualization_0_name': 'Tree Canopy Cover',\n",
       "  'system:asset_size': 1318426157730,\n",
       "  'visualization_0_bands': 'treecover2000'}}"
      ]
     },
     "execution_count": 18,
     "metadata": {},
     "output_type": "execute_result"
    }
   ],
   "source": [
    "Map1 = geemap.Map()\n",
    "gfc2014 = ee.Image('UMD/hansen/global_forest_change_2015') \n",
    "Map1.addLayer(gfc2014)\n",
    "gfc2014.getInfo()"
   ]
  },
  {
   "cell_type": "code",
   "execution_count": 19,
   "metadata": {},
   "outputs": [
    {
     "data": {
      "text/html": [
       "\n",
       "            <style>\n",
       "                .geemap-dark {\n",
       "                    --jp-widgets-color: white;\n",
       "                    --jp-widgets-label-color: white;\n",
       "                    --jp-ui-font-color1: white;\n",
       "                    --jp-layout-color2: #454545;\n",
       "                    background-color: #383838;\n",
       "                }\n",
       "\n",
       "                .geemap-dark .jupyter-button {\n",
       "                    --jp-layout-color3: #383838;\n",
       "                }\n",
       "\n",
       "                .geemap-colab {\n",
       "                    background-color: var(--colab-primary-surface-color, white);\n",
       "                }\n",
       "\n",
       "                .geemap-colab .jupyter-button {\n",
       "                    --jp-layout-color3: var(--colab-primary-surface-color, white);\n",
       "                }\n",
       "            </style>\n",
       "            "
      ],
      "text/plain": [
       "<IPython.core.display.HTML object>"
      ]
     },
     "metadata": {},
     "output_type": "display_data"
    },
    {
     "data": {
      "application/vnd.jupyter.widget-view+json": {
       "model_id": "b14e0fe3114f4df88978fd062ed69f20",
       "version_major": 2,
       "version_minor": 0
      },
      "text/plain": [
       "Map(center=[0, 0], controls=(WidgetControl(options=['position', 'transparent_bg'], widget=SearchDataGUI(childr…"
      ]
     },
     "execution_count": 19,
     "metadata": {},
     "output_type": "execute_result"
    }
   ],
   "source": [
    "Map1.addLayer(gfc2014, {'bands': ['loss']}, 'loss') \n",
    "Map1.addLayer(gfc2014, {'bands': ['last_b50', 'last_b40', 'last_b30']}, 'false color')\n",
    "Map1.addLayer(gfc2014, {'bands': ['loss', 'treecover2000', 'gain']}, 'green') \n",
    "Map1.addLayer(gfc2014, {'bands': ['loss', 'treecover2000', 'gain'],max: [1, 255, 1]}, 'forest cover, loss, gain') \n",
    "Map1.addLayer(gfc2014, {'bands': ['treecover2000'],'palette': ['000000', '00FF00']}, 'forest cover palette')\n",
    "Map1.addLayer(gfc2014, {'bands': ['treecover2000'],'palette': ['000000', '00FF00'],max: 100}, 'forest cover percent')\n",
    "Map1"
   ]
  },
  {
   "cell_type": "code",
   "execution_count": 20,
   "metadata": {},
   "outputs": [
    {
     "data": {
      "text/html": [
       "\n",
       "            <style>\n",
       "                .geemap-dark {\n",
       "                    --jp-widgets-color: white;\n",
       "                    --jp-widgets-label-color: white;\n",
       "                    --jp-ui-font-color1: white;\n",
       "                    --jp-layout-color2: #454545;\n",
       "                    background-color: #383838;\n",
       "                }\n",
       "\n",
       "                .geemap-dark .jupyter-button {\n",
       "                    --jp-layout-color3: #383838;\n",
       "                }\n",
       "\n",
       "                .geemap-colab {\n",
       "                    background-color: var(--colab-primary-surface-color, white);\n",
       "                }\n",
       "\n",
       "                .geemap-colab .jupyter-button {\n",
       "                    --jp-layout-color3: var(--colab-primary-surface-color, white);\n",
       "                }\n",
       "            </style>\n",
       "            "
      ],
      "text/plain": [
       "<IPython.core.display.HTML object>"
      ]
     },
     "metadata": {},
     "output_type": "display_data"
    }
   ],
   "source": [
    "loss2015 =  gfc2014.select(['loss']) \n",
    "# Filter the 'loss' band to include only pixels where loss has occurred\n",
    "loss2015 = loss2015.updateMask(loss2015)\n",
    "lossyear = gfc2014.select(['lossyear'])"
   ]
  },
  {
   "cell_type": "code",
   "execution_count": 21,
   "metadata": {},
   "outputs": [
    {
     "data": {
      "text/html": [
       "\n",
       "            <style>\n",
       "                .geemap-dark {\n",
       "                    --jp-widgets-color: white;\n",
       "                    --jp-widgets-label-color: white;\n",
       "                    --jp-ui-font-color1: white;\n",
       "                    --jp-layout-color2: #454545;\n",
       "                    background-color: #383838;\n",
       "                }\n",
       "\n",
       "                .geemap-dark .jupyter-button {\n",
       "                    --jp-layout-color3: #383838;\n",
       "                }\n",
       "\n",
       "                .geemap-colab {\n",
       "                    background-color: var(--colab-primary-surface-color, white);\n",
       "                }\n",
       "\n",
       "                .geemap-colab .jupyter-button {\n",
       "                    --jp-layout-color3: var(--colab-primary-surface-color, white);\n",
       "                }\n",
       "            </style>\n",
       "            "
      ],
      "text/plain": [
       "<IPython.core.display.HTML object>"
      ]
     },
     "metadata": {},
     "output_type": "display_data"
    },
    {
     "name": "stdout",
     "output_type": "stream",
     "text": [
      "Min and Max values: {'loss_max': 1, 'loss_min': 1}\n"
     ]
    }
   ],
   "source": [
    "region = ee.Geometry.Polygon(\n",
    "    [[[-3.255, 11.174],\n",
    "      [-3.255, 4.710],\n",
    "      [1.202, 4.710],\n",
    "      [1.202, 11.174]]])\n",
    "# Get the min and max values for the specified region\n",
    "stats = loss2015.reduceRegion(\n",
    "    reducer=ee.Reducer.minMax(),\n",
    "    geometry=region,\n",
    "    scale=30,  # Adjust the scale as needed\n",
    "    maxPixels=1e11\n",
    ")\n",
    "# Print the results\n",
    "print('Min and Max values:', stats.getInfo())"
   ]
  },
  {
   "cell_type": "code",
   "execution_count": 22,
   "metadata": {},
   "outputs": [
    {
     "data": {
      "text/html": [
       "\n",
       "            <style>\n",
       "                .geemap-dark {\n",
       "                    --jp-widgets-color: white;\n",
       "                    --jp-widgets-label-color: white;\n",
       "                    --jp-ui-font-color1: white;\n",
       "                    --jp-layout-color2: #454545;\n",
       "                    background-color: #383838;\n",
       "                }\n",
       "\n",
       "                .geemap-dark .jupyter-button {\n",
       "                    --jp-layout-color3: #383838;\n",
       "                }\n",
       "\n",
       "                .geemap-colab {\n",
       "                    background-color: var(--colab-primary-surface-color, white);\n",
       "                }\n",
       "\n",
       "                .geemap-colab .jupyter-button {\n",
       "                    --jp-layout-color3: var(--colab-primary-surface-color, white);\n",
       "                }\n",
       "            </style>\n",
       "            "
      ],
      "text/plain": [
       "<IPython.core.display.HTML object>"
      ]
     },
     "metadata": {},
     "output_type": "display_data"
    },
    {
     "data": {
      "application/vnd.jupyter.widget-view+json": {
       "model_id": "5bf664b9ebb347979548ec8c33570300",
       "version_major": 2,
       "version_minor": 0
      },
      "text/plain": [
       "Map(center=[7.9465, -1.0232], controls=(WidgetControl(options=['position', 'transparent_bg'], widget=SearchDat…"
      ]
     },
     "execution_count": 22,
     "metadata": {},
     "output_type": "execute_result"
    }
   ],
   "source": [
    "Map2= geemap.Map()\n",
    "loss2015 =  gfc2014.select(['loss']) \n",
    "# Define visualization parameters\n",
    "vis_params = {\n",
    "    'min': 0,\n",
    "    'max': 1,\n",
    "    'palette': ['blue', 'yellow']\n",
    "}\n",
    "\n",
    "# Add the layer to the map\n",
    "Map2.addLayer(loss2015, vis_params, 'Forest Loss 2015')\n",
    "\n",
    "# Center the map on Ghana\n",
    "Map2.setCenter(-1.0232, 7.9465, 6)  # Longitude, Latitude, Zoom level\n",
    "\n",
    "# Display the map\n",
    "Map2"
   ]
  },
  {
   "cell_type": "markdown",
   "metadata": {},
   "source": [
    "##calculate the loss area for Gahna , the tree loss area is 10482987027.122002"
   ]
  },
  {
   "cell_type": "code",
   "execution_count": 25,
   "metadata": {},
   "outputs": [
    {
     "data": {
      "text/html": [
       "\n",
       "            <style>\n",
       "                .geemap-dark {\n",
       "                    --jp-widgets-color: white;\n",
       "                    --jp-widgets-label-color: white;\n",
       "                    --jp-ui-font-color1: white;\n",
       "                    --jp-layout-color2: #454545;\n",
       "                    background-color: #383838;\n",
       "                }\n",
       "\n",
       "                .geemap-dark .jupyter-button {\n",
       "                    --jp-layout-color3: #383838;\n",
       "                }\n",
       "\n",
       "                .geemap-colab {\n",
       "                    background-color: var(--colab-primary-surface-color, white);\n",
       "                }\n",
       "\n",
       "                .geemap-colab .jupyter-button {\n",
       "                    --jp-layout-color3: var(--colab-primary-surface-color, white);\n",
       "                }\n",
       "            </style>\n",
       "            "
      ],
      "text/plain": [
       "<IPython.core.display.HTML object>"
      ]
     },
     "metadata": {},
     "output_type": "display_data"
    },
    {
     "name": "stdout",
     "output_type": "stream",
     "text": [
      "Total forest loss area in 2015 (square meters): {'loss': 10482987027.122002}\n"
     ]
    }
   ],
   "source": [
    "pixelArea = ee.Image.pixelArea()\n",
    "lossArea2015 = loss2015.multiply(pixelArea)\n",
    "region = ee.Geometry.Polygon(\n",
    "    [[[-3.255, 11.174],\n",
    "      [-3.255, 4.710],\n",
    "      [1.202, 4.710],\n",
    "      [1.202, 11.174]]])\n",
    "# Sum the area of forest loss within the region\n",
    "totalLossArea = lossArea2015.reduceRegion(\n",
    "    reducer=ee.Reducer.sum(),\n",
    "    geometry=region,\n",
    "    scale=30,\n",
    "    maxPixels=1e9\n",
    ")\n",
    "# Print the result\n",
    "print('Total forest loss area in 2015 (square meters):', totalLossArea.getInfo())"
   ]
  },
  {
   "cell_type": "markdown",
   "metadata": {},
   "source": [
    "## example for Gahana"
   ]
  },
  {
   "cell_type": "code",
   "execution_count": 26,
   "metadata": {},
   "outputs": [
    {
     "data": {
      "text/html": [
       "\n",
       "            <style>\n",
       "                .geemap-dark {\n",
       "                    --jp-widgets-color: white;\n",
       "                    --jp-widgets-label-color: white;\n",
       "                    --jp-ui-font-color1: white;\n",
       "                    --jp-layout-color2: #454545;\n",
       "                    background-color: #383838;\n",
       "                }\n",
       "\n",
       "                .geemap-dark .jupyter-button {\n",
       "                    --jp-layout-color3: #383838;\n",
       "                }\n",
       "\n",
       "                .geemap-colab {\n",
       "                    background-color: var(--colab-primary-surface-color, white);\n",
       "                }\n",
       "\n",
       "                .geemap-colab .jupyter-button {\n",
       "                    --jp-layout-color3: var(--colab-primary-surface-color, white);\n",
       "                }\n",
       "            </style>\n",
       "            "
      ],
      "text/plain": [
       "<IPython.core.display.HTML object>"
      ]
     },
     "metadata": {},
     "output_type": "display_data"
    },
    {
     "data": {
      "application/vnd.jupyter.widget-view+json": {
       "model_id": "f6e83de6802b4433b73c691dead80a17",
       "version_major": 2,
       "version_minor": 0
      },
      "text/plain": [
       "Map(center=[0, 0], controls=(WidgetControl(options=['position', 'transparent_bg'], widget=SearchDataGUI(childr…"
      ]
     },
     "execution_count": 26,
     "metadata": {},
     "output_type": "execute_result"
    }
   ],
   "source": [
    "# Mask the loss image to the Ghana region\n",
    "loss2015_ghana = loss2015.clip(region)\n",
    "# Define visualization parameters\n",
    "vis_params = {\n",
    "    'min': 0,\n",
    "    'max': 1,\n",
    "    'palette': ['blue', 'yellow']\n",
    "}\n",
    "# Create a map\n",
    "Map3 = geemap.Map()\n",
    "Map3.addLayer(loss2015_ghana, vis_params, 'Forest Loss 2015 in Ghana')\n",
    "Map3"
   ]
  },
  {
   "cell_type": "markdown",
   "metadata": {},
   "source": [
    "## calculate the forest loss area for Gahna per year"
   ]
  },
  {
   "cell_type": "code",
   "execution_count": 205,
   "metadata": {},
   "outputs": [
    {
     "data": {
      "text/html": [
       "\n",
       "            <style>\n",
       "                .geemap-dark {\n",
       "                    --jp-widgets-color: white;\n",
       "                    --jp-widgets-label-color: white;\n",
       "                    --jp-ui-font-color1: white;\n",
       "                    --jp-layout-color2: #454545;\n",
       "                    background-color: #383838;\n",
       "                }\n",
       "\n",
       "                .geemap-dark .jupyter-button {\n",
       "                    --jp-layout-color3: #383838;\n",
       "                }\n",
       "\n",
       "                .geemap-colab {\n",
       "                    background-color: var(--colab-primary-surface-color, white);\n",
       "                }\n",
       "\n",
       "                .geemap-colab .jupyter-button {\n",
       "                    --jp-layout-color3: var(--colab-primary-surface-color, white);\n",
       "                }\n",
       "            </style>\n",
       "            "
      ],
      "text/plain": [
       "<IPython.core.display.HTML object>"
      ]
     },
     "metadata": {},
     "output_type": "display_data"
    },
    {
     "name": "stdout",
     "output_type": "stream",
     "text": [
      "Total forest loss area in 2001 (square meters): 666196226.5097202\n",
      "Total forest loss area in 2002 (square meters): 1010383126.6102903\n",
      "Total forest loss area in 2003 (square meters): 397586165.55287486\n",
      "Total forest loss area in 2004 (square meters): 312438828.96695364\n",
      "Total forest loss area in 2005 (square meters): 659156544.8214135\n",
      "Total forest loss area in 2006 (square meters): 524711154.2089425\n",
      "Total forest loss area in 2007 (square meters): 684454407.1023227\n",
      "Total forest loss area in 2008 (square meters): 728698852.9987943\n",
      "Total forest loss area in 2009 (square meters): 774199470.6960809\n",
      "Total forest loss area in 2010 (square meters): 392341946.8413749\n",
      "Total forest loss area in 2011 (square meters): 586655630.0542043\n",
      "Total forest loss area in 2012 (square meters): 607134124.5374718\n",
      "Total forest loss area in 2013 (square meters): 1598018641.4055896\n",
      "Total forest loss area in 2014 (square meters): 1541008586.2604527\n"
     ]
    }
   ],
   "source": [
    "# Mask the lossyear image to the Ghana region\n",
    "lossyear_ghana = lossyear.clip(region)\n",
    "# Calculate the pixel area\n",
    "pixelArea1 = ee.Image.pixelArea()\n",
    "# Function to calculate the area of loss for a specific year\n",
    "def calculate_loss_area(year):\n",
    "    loss_for_year = lossyear_ghana.eq(year)\n",
    "    loss_area_for_year = loss_for_year.multiply(pixelArea1)\n",
    "    total_loss_area = loss_area_for_year.reduceRegion(\n",
    "        reducer=ee.Reducer.sum(),\n",
    "        geometry=region,\n",
    "        scale=30,\n",
    "        maxPixels=1e9\n",
    "    )\n",
    "    return total_loss_area.getInfo()\n",
    "# Calculate the loss area for each year from 2001 to 2014\n",
    "loss_areas = {}\n",
    "for year in range(1, 15):  # Years 2001 to 2014\n",
    "    loss_areas[2000 + year] = calculate_loss_area(year)\n",
    "  # Sum the loss areas per year\n",
    "total_loss_area_per_year = {year: area['lossyear'] for year, area in loss_areas.items()}  \n",
    "# Print the results\n",
    "for year, area in total_loss_area_per_year.items():\n",
    "    print(f'Total forest loss area in {year} (square meters):', area)\n",
    "    \n",
    "# test for the sum of the loss areas per year\n",
    "# Sum the total loss area across all years\n",
    "sum_total_loss_area = sum(total_loss_area_per_year.values())\n",
    "\n",
    "# Print the sum of the total loss area\n",
    "print(f'Sum of total forest loss area from 2001 to 2014 (square meters):', sum_total_loss_area) "
   ]
  },
  {
   "cell_type": "code",
   "execution_count": 210,
   "metadata": {},
   "outputs": [
    {
     "data": {
      "text/html": [
       "\n",
       "            <style>\n",
       "                .geemap-dark {\n",
       "                    --jp-widgets-color: white;\n",
       "                    --jp-widgets-label-color: white;\n",
       "                    --jp-ui-font-color1: white;\n",
       "                    --jp-layout-color2: #454545;\n",
       "                    background-color: #383838;\n",
       "                }\n",
       "\n",
       "                .geemap-dark .jupyter-button {\n",
       "                    --jp-layout-color3: #383838;\n",
       "                }\n",
       "\n",
       "                .geemap-colab {\n",
       "                    background-color: var(--colab-primary-surface-color, white);\n",
       "                }\n",
       "\n",
       "                .geemap-colab .jupyter-button {\n",
       "                    --jp-layout-color3: var(--colab-primary-surface-color, white);\n",
       "                }\n",
       "            </style>\n",
       "            "
      ],
      "text/plain": [
       "<IPython.core.display.HTML object>"
      ]
     },
     "metadata": {},
     "output_type": "display_data"
    },
    {
     "name": "stdout",
     "output_type": "stream",
     "text": [
      "Overlay result: {'type': 'Image', 'bands': [{'id': 'loss', 'data_type': {'type': 'PixelType', 'precision': 'int', 'min': 0, 'max': 255}, 'dimensions': [1440000, 548000], 'crs': 'EPSG:4326', 'crs_transform': [0.00025, 0, -180, 0, -0.00025, 80]}, {'id': 'b1', 'data_type': {'type': 'PixelType', 'precision': 'int', 'min': -32768, 'max': 32767}, 'dimensions': [39166, 27257], 'origin': [685602, 275298], 'crs': 'EPSG:4326', 'crs_transform': [0.00025, 0, -180, 0, -0.00025, 80]}], 'version': 1641990738307055, 'id': 'UMD/hansen/global_forest_change_2015', 'properties': {'system:visualization_0_min': '0.0', 'type_name': 'Image', 'keywords': ['forest', 'geophysical', 'hansen', 'landsat_derived', 'umd'], 'thumb': 'https://mw1.google.com/ges/dd/images/UMD_hansen_thumb.png', 'description': '<p>Results from time-series analysis of Landsat images in characterizing\\nglobal forest extent and change.</p><p>The &#39;first&#39; and &#39;last&#39; bands are reference multispectral imagery from the\\nfirst and last available years for Landsat spectral bands 3, 4, 5, and 7.\\nReference composite imagery represents median observations from a set of\\nquality-assessed growing-season observations for each of these bands.</p><p>Please see the <a href=\"https://earthenginepartners.appspot.com/science-2013-global-forest/download_v1.2.html\">User Notes</a>\\nfor this Version 1.2 update, as well as the associated journal article:\\nHansen, Potapov, Moore, Hancher et al. “High-resolution global maps of\\n21st-century forest cover change.” Science 342.6160 (2013): 850-853.</p><p>Note that updated versions of this data are available. The newest version,\\nVersion 1.8 (produced with data through 2020), is available as\\nUMD/hansen/global_forest_change_2020_v1_8.</p><p><b>Provider: <a href=\"https://earthenginepartners.appspot.com/science-2013-global-forest\">Hansen/UMD/Google/USGS/NASA</a></b><br><p><b>Resolution</b><br>30.92 meters\\n</p><p><b>Bands</b><table class=\"eecat\"><tr><th scope=\"col\">Name</th><th scope=\"col\">Description</th></tr><tr><td>treecover2000</td><td><p>Tree canopy cover for year 2000, defined as canopy closure for all\\nvegetation taller than 5m in height.</p></td></tr><tr><td>loss</td><td><p>Forest loss during the study period, defined as a stand-replacement\\ndisturbance (a change from a forest to non-forest state).</p></td></tr><tr><td colspan=100>\\n      Bitmask for loss\\n<ul><li>\\n          Bit 0: Forest loss during the study period.\\n<ul><li>0: Not loss</li><li>1: Loss</li></ul></li></ul></td></tr><tr><td>gain</td><td><p>Forest gain during the period 2000–2012, defined as the inverse of\\nloss (a non-forest to forest change entirely within the study\\nperiod). Note that this has not been updated in subsequent versions.</p></td></tr><tr><td colspan=100>\\n      Bitmask for gain\\n<ul><li>\\n          Bit 0: Forest gain during the period 2000–2012.\\n<ul><li>0: No gain</li><li>1: Gain</li></ul></li></ul></td></tr><tr><td>first_b30</td><td><p>Landsat 7 band 3 (red) cloud-free image composite. Reference\\nmultispectral imagery from the first available year, typically 2000.</p></td></tr><tr><td>first_b40</td><td><p>Landsat 7 band 4 (NIR) cloud-free image composite. Reference\\nmultispectral imagery from the first available year, typically 2000.</p></td></tr><tr><td>first_b50</td><td><p>Landsat 7 band 5 (SWIR) cloud-free image composite. Reference\\nmultispectral imagery from the first available year, typically 2000.</p></td></tr><tr><td>first_b70</td><td><p>Landsat 7 band 7 (SWIR) cloud-free image composite. Reference\\nmultispectral imagery from the first available year, typically 2000.</p></td></tr><tr><td>last_b30</td><td><p>Landsat 7 band 3 (red) cloud-free image composite. Reference\\nmultispectral imagery from the last available year, typically the last\\nyear of the study period.</p></td></tr><tr><td>last_b40</td><td><p>Landsat 7 band 4 (NIR) cloud-free image composite. Reference\\nmultispectral imagery from the last available year, typically the last\\nyear of the study period.</p></td></tr><tr><td>last_b50</td><td><p>Landsat 7 band 5 (SWIR) cloud-free image composite. Reference\\nmultispectral imagery from the last available year, typically the last\\nyear of the study period.</p></td></tr><tr><td>last_b70</td><td><p>Landsat 7 band 7 (SWIR) cloud-free image composite. Reference\\nmultispectral imagery from the last available year, typically the last\\nyear of the study period.</p></td></tr><tr><td>datamask</td><td><p>Three values representing areas of no data, mapped land surface, and permanent water bodies.</p></td></tr><tr><td colspan=100>\\n      Bitmask for datamask\\n<ul><li>\\n          Bits 0-1: Three values representing areas of no data, mapped land surface, and permanent water bodies.\\n<ul><li>0: No data</li><li>1: Mapped land surface</li><li>2: Permanent water bodies</li></ul></li></ul></td></tr><tr><td>lossyear</td><td><p>Year of gross forest cover loss event. A disaggregation of total forest\\nloss to annual time scales. Encoded as either 0 (no loss) or else a value\\nin the range 1–14, representing loss detected primarily in the year\\n2001–2014, respectively.</p></td></tr></table><p><b>Terms of Use</b><br><p>Licensed under the Creative Commons Attribution 4.0 International License.</p><p><b>Suggested citation(s)</b><ul><li><p>Hansen, M. C., P. V. Potapov, R. Moore, M. Hancher, S. A. Turubanova, A.\\nTyukavina, D. Thau, S. V. Stehman, S. J. Goetz, T. R. Loveland, A.\\nKommareddy, A. Egorov, L. Chini, C. O. Justice, and J. R. G. Townshend.\\n2013. “High-Resolution Global Maps of 21st-Century Forest Cover Change.”\\nScience 342 (15 November): 850–53. Data available on-line at:\\nhttps://earthenginepartners.appspot.com/science-2013-global-forest.</p></li></ul><style>\\n  table.eecat {\\n  border: 1px solid black;\\n  border-collapse: collapse;\\n  font-size: 13px;\\n  }\\n  table.eecat td, tr, th {\\n  text-align: left; vertical-align: top;\\n  border: 1px solid gray; padding: 3px;\\n  }\\n  td.nobreak { white-space: nowrap; }\\n</style>', 'source_tags': ['landsat_derived', 'umd', 'hansen'], 'visualization_0_max': '100.0', 'title': 'Hansen Global Forest Change v1.2 (2000-2014) [deprecated]', 'superseded_by': 'UMD/hansen/global_forest_change_2020_v1_8', 'product_tags': ['forest', 'geophysical'], 'provider': 'Hansen/UMD/Google/USGS/NASA', 'visualization_0_min': '0.0', 'visualization_0_name': 'Tree Canopy Cover', 'date_range': [946684800000, 1420070400000], 'period': 0, 'system:visualization_0_bands': 'treecover2000', 'provider_url': 'https://earthenginepartners.appspot.com/science-2013-global-forest', 'sample': 'https://mw1.google.com/ges/dd/images/UMD_hansen_sample.png', 'tags': ['forest', 'geophysical', 'hansen', 'landsat_derived', 'umd'], 'system:visualization_0_max': '100.0', 'visualization_0_palette': '3d3d3d,080a02,080a02,080a02,106e12,37a930,03ff17', 'system:visualization_0_palette': '3d3d3d,080a02,080a02,080a02,106e12,37a930,03ff17', 'system:visualization_0_name': 'Tree Canopy Cover', 'system:asset_size': 1318426157730, 'visualization_0_bands': 'treecover2000'}}\n"
     ]
    }
   ],
   "source": [
    "# Get the projection of the loss2015 image\n",
    "loss2015_proj = loss2015.projection()\n",
    "\n",
    "# Reproject the coco_image to match the resolution of loss2015\n",
    "coco_image_reprojected = coco_image.reproject(loss2015_proj)\n",
    "\n",
    "# Overlay the reprojected coco_image with loss2015\n",
    "overlay = loss2015.addBands(coco_image_reprojected)\n",
    "\n",
    "# Print the result to check\n",
    "print('Overlay result:', overlay.getInfo())"
   ]
  },
  {
   "cell_type": "markdown",
   "metadata": {},
   "source": [
    "## Check if two layers has the same crs and transforms"
   ]
  },
  {
   "cell_type": "code",
   "execution_count": 220,
   "metadata": {},
   "outputs": [
    {
     "data": {
      "text/html": [
       "\n",
       "            <style>\n",
       "                .geemap-dark {\n",
       "                    --jp-widgets-color: white;\n",
       "                    --jp-widgets-label-color: white;\n",
       "                    --jp-ui-font-color1: white;\n",
       "                    --jp-layout-color2: #454545;\n",
       "                    background-color: #383838;\n",
       "                }\n",
       "\n",
       "                .geemap-dark .jupyter-button {\n",
       "                    --jp-layout-color3: #383838;\n",
       "                }\n",
       "\n",
       "                .geemap-colab {\n",
       "                    background-color: var(--colab-primary-surface-color, white);\n",
       "                }\n",
       "\n",
       "                .geemap-colab .jupyter-button {\n",
       "                    --jp-layout-color3: var(--colab-primary-surface-color, white);\n",
       "                }\n",
       "            </style>\n",
       "            "
      ],
      "text/plain": [
       "<IPython.core.display.HTML object>"
      ]
     },
     "metadata": {},
     "output_type": "display_data"
    },
    {
     "name": "stdout",
     "output_type": "stream",
     "text": [
      "Do the images have the same resolution? False\n"
     ]
    }
   ],
   "source": [
    "# Get the projection of the loss2015 image\n",
    "loss2015_proj = loss2015.projection()\n",
    "# Get the projection of the coco_image\n",
    "coco_image_proj = coco_image.projection()\n",
    "\n",
    "# Extract CRS and transform parameters\n",
    "loss2015_crs = loss2015_proj.crs()\n",
    "loss2015_transform = loss2015_proj.transform()\n",
    "\n",
    "coco_image_crs = coco_image_proj.crs()\n",
    "coco_image_transform = coco_image_proj.transform()\n",
    "\n",
    "# Check if the CRS and transform parameters are the same\n",
    "same_crs = loss2015_crs.getInfo() == coco_image_crs.getInfo()\n",
    "same_transform = loss2015_transform.getInfo() == coco_image_transform.getInfo()\n",
    "\n",
    "# Check if both CRS and transform are the same\n",
    "same_resolution = same_crs and same_transform\n",
    "\n",
    "# Print the result\n",
    "print('Do the images have the same resolution?', same_resolution)"
   ]
  },
  {
   "cell_type": "markdown",
   "metadata": {},
   "source": [
    "## example code for spatial analysis"
   ]
  },
  {
   "cell_type": "code",
   "execution_count": null,
   "metadata": {},
   "outputs": [],
   "source": [
    "## check info for the large spatial dataset"
   ]
  }
 ],
 "metadata": {
  "kernelspec": {
   "display_name": "gee_gy",
   "language": "python",
   "name": "python3"
  },
  "language_info": {
   "codemirror_mode": {
    "name": "ipython",
    "version": 3
   },
   "file_extension": ".py",
   "mimetype": "text/x-python",
   "name": "python",
   "nbconvert_exporter": "python",
   "pygments_lexer": "ipython3",
   "version": "3.9.20"
  }
 },
 "nbformat": 4,
 "nbformat_minor": 2
}
